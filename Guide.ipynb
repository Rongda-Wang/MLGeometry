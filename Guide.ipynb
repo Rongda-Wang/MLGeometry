{
 "cells": [
  {
   "cell_type": "markdown",
   "metadata": {},
   "source": [
    "# MLGeometry guide"
   ]
  },
  {
   "cell_type": "markdown",
   "metadata": {},
   "source": [
    "This introduction demonstrates how to use MLGeometry to: \n",
    "1. Generate a hypersurface.\n",
    "2. Build a bihomogeneous neural network.\n",
    "3. Use the model to compute numerical Calabi-Yau metrics with the embedding method.\n",
    "4. Plot $\\eta$ on a rational curve."
   ]
  },
  {
   "cell_type": "markdown",
   "metadata": {},
   "source": [
    "## Configure imports"
   ]
  },
  {
   "cell_type": "markdown",
   "metadata": {},
   "source": [
    "Import tensorflow_probability to use the L-BFGS optimizer:"
   ]
  },
  {
   "cell_type": "code",
   "execution_count": 1,
   "metadata": {},
   "outputs": [],
   "source": [
    "import sympy as sp\n",
    "import tensorflow as tf\n",
    "import tensorflow.python.keras.backend as K\n",
    "import tensorflow_probability as tfp"
   ]
  },
  {
   "cell_type": "code",
   "execution_count": 2,
   "metadata": {},
   "outputs": [],
   "source": [
    "import MLGeometry as mlg\n",
    "from MLGeometry import bihomoNN as bnn"
   ]
  },
  {
   "cell_type": "markdown",
   "metadata": {},
   "source": [
    "Import the libraries to plot the $\\eta$ on the rational curve (see the last section):"
   ]
  },
  {
   "cell_type": "code",
   "execution_count": 3,
   "metadata": {},
   "outputs": [],
   "source": [
    "import math\n",
    "import numpy as np\n",
    "import matplotlib.pyplot as plt\n",
    "from mpl_toolkits.mplot3d import Axes3D"
   ]
  },
  {
   "cell_type": "markdown",
   "metadata": {},
   "source": [
    "## Set a random seed (optional)\n",
    "Some random seed might be bad for numerical calulations. If there are any errors during the training, you may want to try a different seed."
   ]
  },
  {
   "cell_type": "code",
   "execution_count": 4,
   "metadata": {},
   "outputs": [],
   "source": [
    "np.random.seed(42)\n",
    "tf.random.set_seed(42)"
   ]
  },
  {
   "cell_type": "markdown",
   "metadata": {},
   "source": [
    "## Define a hypersurface\n",
    "First define a set of coordinates and a function as sympy symbols:"
   ]
  },
  {
   "cell_type": "code",
   "execution_count": 5,
   "metadata": {},
   "outputs": [],
   "source": [
    "z0, z1, z2, z3, z4 = sp.symbols('z0, z1, z2, z3, z4')\n",
    "Z = [z0,z1,z2,z3,z4]\n",
    "f = z0**5 + z1**5 + z2**5 + z3**5 + z4**5 + 0.5*z0*z1*z2*z3*z4"
   ]
  },
  {
   "cell_type": "markdown",
   "metadata": {},
   "source": [
    "Then define a hypersurface as a collection of points which solve the equation f = 0, using the `Hypersurface` class in the `mlg.hypersurface` module. The parameter n_pairs is the number of random pairs of points used to form the random lines in $\\mathbf{CP}^{N+1}$. Then we take the intersections of those random lines and the hypersurface. By Bezout's theorem, each line intersects the hypersurface in precisely d points where d is the number of homogeneous coordinates. So the total number of points is d * n_pairs."
   ]
  },
  {
   "cell_type": "code",
   "execution_count": 6,
   "metadata": {},
   "outputs": [],
   "source": [
    "n_pairs = 10000\n",
    "HS_train = mlg.hypersurface.Hypersurface(Z, f, n_pairs)\n",
    "HS_test = mlg.hypersurface.Hypersurface(Z, f, n_pairs)"
   ]
  },
  {
   "cell_type": "markdown",
   "metadata": {},
   "source": [
    "The Hypersurface class will take care of the patchwork automatically. Let's use the `list_patches` function to check the number of points on each patch:"
   ]
  },
  {
   "cell_type": "code",
   "execution_count": 7,
   "metadata": {},
   "outputs": [
    {
     "name": "stdout",
     "output_type": "stream",
     "text": [
      "Number of Patches: 5\n",
      "Points on patch 1 : 9933\n",
      "Points on patch 2 : 10015\n",
      "Points on patch 3 : 10249\n",
      "Points on patch 4 : 10011\n",
      "Points on patch 5 : 9792\n"
     ]
    }
   ],
   "source": [
    "HS_train.list_patches()"
   ]
  },
  {
   "cell_type": "markdown",
   "metadata": {},
   "source": [
    "You can also invoke this method on one of the patches to check the distribution on the subpatches:"
   ]
  },
  {
   "cell_type": "code",
   "execution_count": 8,
   "metadata": {},
   "outputs": [
    {
     "name": "stdout",
     "output_type": "stream",
     "text": [
      "Number of Patches: 4\n",
      "Points on patch 1 : 2474\n",
      "Points on patch 2 : 2468\n",
      "Points on patch 3 : 2547\n",
      "Points on patch 4 : 2444\n"
     ]
    }
   ],
   "source": [
    "HS_train.patches[0].list_patches()"
   ]
  },
  {
   "cell_type": "markdown",
   "metadata": {},
   "source": [
    "The Hypersurface class contains some symbolic and numerical methods as well, which will be introduced elsewhere. "
   ]
  },
  {
   "cell_type": "markdown",
   "metadata": {},
   "source": [
    "## Training with Tensorflow\n",
    "The following steps are similar to a regular Tensorflow training process. \n",
    "### Generate datasets\n",
    "The `mlg.tf_dataset.generate_dataset` function converts a hypersurface to a Tensorflow Dataset, which has four componets: the points on the hypersurface, the volume form $\\small \\Omega \\wedge \\bar\\Omega$, the mass reweighting the points distribution and the restriction which restricts the Kähler metric to a subpatch. The restriction contains an extra linear transformation so that points on different affine patches can all be processed in one call. It is also possible to generate a dataset only on one affine patch. "
   ]
  },
  {
   "cell_type": "code",
   "execution_count": 9,
   "metadata": {},
   "outputs": [],
   "source": [
    "train_set = mlg.tf_dataset.generate_dataset(HS_train)\n",
    "test_set = mlg.tf_dataset.generate_dataset(HS_test)"
   ]
  },
  {
   "cell_type": "markdown",
   "metadata": {},
   "source": [
    "Shuffle and batch the datasets:"
   ]
  },
  {
   "cell_type": "code",
   "execution_count": 10,
   "metadata": {},
   "outputs": [],
   "source": [
    "train_set = train_set.shuffle(HS_train.n_points).batch(1000)\n",
    "test_set = test_set.shuffle(HS_test.n_points).batch(1000)"
   ]
  },
  {
   "cell_type": "markdown",
   "metadata": {},
   "source": [
    "Let's look at what is inside a dataset:"
   ]
  },
  {
   "cell_type": "code",
   "execution_count": 11,
   "metadata": {
    "scrolled": true
   },
   "outputs": [
    {
     "name": "stdout",
     "output_type": "stream",
     "text": [
      "tf.Tensor(\n",
      "[[-0.28939024-0.7013853j   0.36498785+0.31731284j  1.        -0.j\n",
      "  -0.83973217-0.04013346j  0.69238067-0.44357434j]\n",
      " [-0.2632903 +0.00763338j  1.        +0.j         -0.3904083 -0.03917403j\n",
      "  -0.07155564+0.36113203j  0.80278397+0.58611786j]\n",
      " [-0.9368906 +0.12442758j  0.21154833+0.6303546j  -0.3895686 +0.4952412j\n",
      "  -0.22148535-0.86754274j  1.        -0.j        ]\n",
      " ...\n",
      " [-0.3757828 -0.8230363j  -0.176058  +0.23105958j -0.36762843+0.82377625j\n",
      "  -0.28792354-0.0678029j   1.        -0.j        ]\n",
      " [ 0.38600475+0.27455673j  0.80249757+0.5882626j   1.        +0.j\n",
      "  -0.0039644 +0.08065715j -0.46647677+0.11512545j]\n",
      " [ 0.8101118 -0.5754197j   1.        +0.j         -0.13839988-0.06433091j\n",
      "  -0.17594224+0.5278059j  -0.47444513+0.20035468j]], shape=(1000, 5), dtype=complex64)\n"
     ]
    }
   ],
   "source": [
    "points, Omega_Omegabar, mass, restriction = next(iter(train_set))\n",
    "print(points)"
   ]
  },
  {
   "cell_type": "markdown",
   "metadata": {},
   "source": [
    "### Build a bihomogeneous neural network"
   ]
  },
  {
   "cell_type": "markdown",
   "metadata": {},
   "source": [
    "The `mlg.bihomoNN` module provides the necessary layers (e.g. `Bihomogeneous` and `Dense` ) to construct the Kähler potential with a bihomogeneous neural network. Here is an example of a two-hidden-layer network (k = 4) with 70 and 100 hidden units:"
   ]
  },
  {
   "cell_type": "code",
   "execution_count": 12,
   "metadata": {},
   "outputs": [],
   "source": [
    "class Kahler_potential(tf.keras.Model):\n",
    "    def __init__(self):\n",
    "        super(Kahler_potential, self).__init__()\n",
    "        # The first layer transforms the complex points to the bihomogeneous form.\n",
    "        # The number of the outputs is d^2, where d is the number of coordinates.\n",
    "        self.bihomogeneous = bnn.Bihomogeneous()\n",
    "        self.layer1 = bnn.Dense(5**2, 70, activation=tf.square)\n",
    "        self.layer2 = bnn.Dense(70, 100, activation=tf.square)\n",
    "        self.layer3 = bnn.Dense(100, 1)\n",
    "    \n",
    "    def call(self, inputs):\n",
    "        x = self.bihomogeneous(inputs)\n",
    "        x = self.layer1(x)\n",
    "        x = self.layer2(x)\n",
    "        x = self.layer3(x)\n",
    "        x = tf.math.log(x)\n",
    "        return x"
   ]
  },
  {
   "cell_type": "code",
   "execution_count": 13,
   "metadata": {},
   "outputs": [],
   "source": [
    "model = Kahler_potential()"
   ]
  },
  {
   "cell_type": "markdown",
   "metadata": {},
   "source": [
    "Define the Kähler metric $g_{i \\bar j} = \\partial_i\\bar\\partial_{\\bar j} K$ and the volume form $d\\mu_g = \\det g_{i \\bar j}$:"
   ]
  },
  {
   "cell_type": "code",
   "execution_count": 14,
   "metadata": {},
   "outputs": [],
   "source": [
    "@tf.function\n",
    "def volume_form(points, Omega_Omegabar, mass, restriction):\n",
    "    \n",
    "    kahler_metric = mlg.complex_math.complex_hessian(tf.math.real(model(points)), points)\n",
    "    volume_form = tf.matmul(restriction, tf.matmul(kahler_metric, restriction, adjoint_b=True))\n",
    "    volume_form = tf.math.real(tf.linalg.det(volume_form))\n",
    "    \n",
    "    # Calculate the normalization constant to make the overall integration as 1\n",
    "    # It is a batchwise calculation but we expect it to converge to a constant eventually\n",
    "    weights = mass / tf.reduce_sum(mass)\n",
    "    factor = tf.reduce_sum(weights * volume_form / Omega_Omegabar)\n",
    "    \n",
    "    return volume_form / factor"
   ]
  },
  {
   "cell_type": "markdown",
   "metadata": {},
   "source": [
    "### Train the model with Adam and L-BFGS\n",
    "#### Adam\n",
    "Setup the keras optmizer as `Adam` and the loss function as one of weighted loss in the `mlg.loss` module. Some available functions are `weighted_MAPE`, `weighted_MSE`, `max_error` and `MAPE_plus_max_error`. They are weighted with the mass formula since the points on the hypersurface are distributed according to the Fubini-Study measure while the measure used in the integration is determined by the volume form $\\small \\Omega \\wedge \\bar\\Omega$."
   ]
  },
  {
   "cell_type": "code",
   "execution_count": 15,
   "metadata": {},
   "outputs": [],
   "source": [
    "optimizer = tf.keras.optimizers.Adam()\n",
    "loss_func = mlg.loss.weighted_MAPE"
   ]
  },
  {
   "cell_type": "markdown",
   "metadata": {},
   "source": [
    "Loop over the batches and train the network:"
   ]
  },
  {
   "cell_type": "code",
   "execution_count": 16,
   "metadata": {
    "scrolled": true
   },
   "outputs": [
    {
     "name": "stdout",
     "output_type": "stream",
     "text": [
      "epoch 50: loss = 0.06240\n",
      "epoch 100: loss = 0.05430\n",
      "epoch 150: loss = 0.05022\n",
      "epoch 200: loss = 0.01916\n",
      "epoch 250: loss = 0.01290\n",
      "epoch 300: loss = 0.01227\n",
      "epoch 350: loss = 0.01163\n",
      "epoch 400: loss = 0.01132\n",
      "epoch 450: loss = 0.01031\n",
      "epoch 500: loss = 0.01081\n"
     ]
    }
   ],
   "source": [
    "max_epochs = 500\n",
    "epoch = 0\n",
    "while epoch < max_epochs:\n",
    "    epoch = epoch + 1\n",
    "    for step, (points, Omega_Omegabar, mass, restriction) in enumerate(train_set):\n",
    "        with tf.GradientTape() as tape:\n",
    "            det_omega = volume_form(points, Omega_Omegabar, mass, restriction)\n",
    "            loss = loss_func(Omega_Omegabar, det_omega, mass)\n",
    "            grads = tape.gradient(loss, model.trainable_weights)\n",
    "        optimizer.apply_gradients(zip(grads, model.trainable_weights))\n",
    "    if epoch % 50 == 0:\n",
    "        print(\"epoch %d: loss = %.5f\" % (epoch, loss))"
   ]
  },
  {
   "cell_type": "markdown",
   "metadata": {},
   "source": [
    "Let's check the loss of the test dataset. First define a function to calculate the total loss over the whole dataset:"
   ]
  },
  {
   "cell_type": "code",
   "execution_count": 17,
   "metadata": {},
   "outputs": [],
   "source": [
    "def cal_total_loss(dataset, loss_function):\n",
    "    total_loss = 0\n",
    "    total_mass = 0\n",
    "    \n",
    "    for step, (points, Omega_Omegabar, mass, restriction) in enumerate(dataset):\n",
    "        det_omega = volume_form(points, Omega_Omegabar, mass, restriction)\n",
    "        mass_sum = tf.reduce_sum(mass)\n",
    "        total_loss += loss_function(Omega_Omegabar, det_omega, mass) * mass_sum\n",
    "        total_mass += mass_sum\n",
    "    total_loss = total_loss / total_mass\n",
    "\n",
    "    return total_loss.numpy()"
   ]
  },
  {
   "cell_type": "markdown",
   "metadata": {},
   "source": [
    "Check the results of MAPE and MSE:"
   ]
  },
  {
   "cell_type": "code",
   "execution_count": 18,
   "metadata": {},
   "outputs": [
    {
     "name": "stdout",
     "output_type": "stream",
     "text": [
      "sigma_test = 0.01105\n",
      "E_test = 0.00022\n"
     ]
    }
   ],
   "source": [
    "sigma_test = cal_total_loss(test_set, mlg.loss.weighted_MAPE)\n",
    "E_test = cal_total_loss(test_set, mlg.loss.weighted_MSE)\n",
    "print(\"sigma_test = %.5f\" % sigma_test)\n",
    "print(\"E_test = %.5f\" % E_test)"
   ]
  },
  {
   "cell_type": "markdown",
   "metadata": {},
   "source": [
    "You can also check the error of the Monte Carlo integration, estimated by: \n",
    "\n",
    "$$\\delta \\sigma = \\frac{1}{\\sqrt{N_p}} {\\left( \\int_X (|\\eta - 1_X| - \\sigma)^2 d\\mu_{\\Omega}\\right)}^{1/2},$$\n",
    "\n",
    "where $N_p$ is the number of points on the hypersurface and $\\sigma$ is the `weighted_MAPE` loss, and \n",
    "\n",
    "$$\\eta = \\frac{\\det \\omega}{\\small \\Omega \\wedge \\bar \\Omega}$$"
   ]
  },
  {
   "cell_type": "code",
   "execution_count": 19,
   "metadata": {},
   "outputs": [
    {
     "name": "stdout",
     "output_type": "stream",
     "text": [
      "delta_simga = 0.00010\n"
     ]
    }
   ],
   "source": [
    "def delta_sigma_square_test(y_true, y_pred, mass):\n",
    "    weights = mass / K.sum(mass)\n",
    "    return K.sum((K.abs(y_true - y_pred) / y_true - sigma_test)**2 * weights)\n",
    "\n",
    "delta_sigma = cal_total_loss(test_set, delta_sigma_square_test)\n",
    "print(\"delta_simga = %.5f\" % delta_sigma)"
   ]
  },
  {
   "cell_type": "markdown",
   "metadata": {},
   "source": [
    "#### L-BFGS\n",
    "As elaborated in our paper, when the network getting more complicated, L-BFGS converges faster than Adam near the minima. It is not in the standard Tensorflow library so the training process is slightly different. The drawback is that the standard L-BFGS does not support multi-batch training, so the size of the train dataset is retricted by the GPU memory and it is easy to overtrain. Therefore, it is recommanded to use L-BFGS after pretraining with Adam, when training a larger network."
   ]
  },
  {
   "cell_type": "markdown",
   "metadata": {},
   "source": [
    "First define a smaller dataset with one batch only:"
   ]
  },
  {
   "cell_type": "code",
   "execution_count": 20,
   "metadata": {},
   "outputs": [],
   "source": [
    "HS_lbfgs = mlg.hypersurface.Hypersurface(Z, f, 1000)\n",
    "n_points = HS_lbfgs.n_points\n",
    "train_set_lbfgs = mlg.tf_dataset.generate_dataset(HS_lbfgs).shuffle(n_points).batch(n_points)"
   ]
  },
  {
   "cell_type": "markdown",
   "metadata": {},
   "source": [
    "Start the training:    \n",
    "(Only ~20 iterations are shown here. In a real case you may want to set the `max_epochs` to ~1000,    \n",
    "Also note that the definition of the volume form is already in the `mlg.lbfgs` module)"
   ]
  },
  {
   "cell_type": "code",
   "execution_count": 21,
   "metadata": {},
   "outputs": [
    {
     "name": "stdout",
     "output_type": "stream",
     "text": [
      "Iter: 1 loss: 0.0111578815\n",
      "Iter: 2 loss: 1.99733663\n",
      "Iter: 3 loss: 0.0997951776\n",
      "Iter: 4 loss: 0.0136882588\n",
      "Iter: 5 loss: 0.0110369259\n",
      "Iter: 6 loss: 0.0109477509\n",
      "Iter: 7 loss: 0.0107298139\n",
      "Iter: 8 loss: 0.0129225384\n",
      "Iter: 9 loss: 0.0107156429\n",
      "Iter: 10 loss: 0.0105226059\n",
      "Iter: 11 loss: 0.011264855\n",
      "Iter: 12 loss: 0.010473242\n",
      "Iter: 13 loss: 0.0104157804\n",
      "Iter: 14 loss: 0.0104989093\n",
      "Iter: 15 loss: 0.0103881937\n",
      "Iter: 16 loss: 0.0103313532\n",
      "Iter: 17 loss: 0.0104149086\n",
      "Iter: 18 loss: 0.0103050368\n"
     ]
    }
   ],
   "source": [
    "loss_func_lbfgs = mlg.loss.weighted_MAPE\n",
    "\n",
    "# The displayed max_epochs will be three to four times this value since iter + 1 everytime the function\n",
    "# is invoked, which also happens during the evaluation of the function itself and its gradient\n",
    "max_epochs = 5\n",
    "\n",
    "# Setup the function to be optimized by L-BFGS. Note that only one batch should be used here\n",
    "points, Omega_Omegabar, mass, restriction = next(iter(train_set_lbfgs))\n",
    "train_func = mlg.lbfgs.function_factory(model, loss_func_lbfgs, points, Omega_Omegabar, mass, restriction)\n",
    "\n",
    "# Setup the inital values and train\n",
    "init_params = tf.dynamic_stitch(train_func.idx, model.trainable_variables)\n",
    "results = tfp.optimizer.lbfgs_minimize(value_and_gradients_function=train_func,\n",
    "                                        initial_position=init_params,\n",
    "                                        max_iterations=max_epochs)\n",
    "# Update the model after the last loop\n",
    "train_func.assign_new_model_parameters(results.position)"
   ]
  },
  {
   "cell_type": "markdown",
   "metadata": {},
   "source": [
    "You can also check the test dataset:"
   ]
  },
  {
   "cell_type": "code",
   "execution_count": 22,
   "metadata": {},
   "outputs": [
    {
     "name": "stdout",
     "output_type": "stream",
     "text": [
      "sigma_test = 0.01054\n",
      "E_test = 0.00021\n"
     ]
    }
   ],
   "source": [
    "sigma_test = cal_total_loss(test_set, mlg.loss.weighted_MAPE)\n",
    "E_test = cal_total_loss(test_set, mlg.loss.weighted_MSE)\n",
    "print(\"sigma_test = %.5f\" % sigma_test)\n",
    "print(\"E_test = %.5f\" % E_test)"
   ]
  },
  {
   "cell_type": "markdown",
   "metadata": {},
   "source": [
    "### $\\eta$ on the rational curve"
   ]
  },
  {
   "cell_type": "markdown",
   "metadata": {},
   "source": [
    "Now let's retrict our model to a subspace and check the local behavior of $\\eta$. With the quintic 3-fold f = 0, we can choose the embedding \n",
    "\n",
    "$$(z_0, -z_0, z_1, 0, -z_1),$$\n",
    "\n",
    "and the local coordinate system defined by $t = z_1 / z_0$. Using shperical coordinates $(\\theta, \\phi)$, it can be embedded into $\\mathbb{R}^3$ by:\n",
    "\n",
    "$$z_0 = \\sin \\theta \\cos \\phi, \\qquad z_1= \\sin \\theta \\sin \\phi + i \\cos \\phi$$\n",
    "\n",
    "So first sample the points on the rational curve:"
   ]
  },
  {
   "cell_type": "code",
   "execution_count": 23,
   "metadata": {},
   "outputs": [],
   "source": [
    "theta, phi = np.linspace(0.001,np.pi+0.001, 500), np.linspace(0.001, 2*np.pi+0.001, 500)\n",
    "eps = 0.0001 + 0.0001j\n",
    "\n",
    "R = []\n",
    "points_list = []\n",
    "for j in phi:\n",
    "    for i in theta:\n",
    "        t = complex(math.sin(i)*math.sin(j), math.cos(i)) / (math.sin(i)*math.cos(j))\n",
    "        if np.absolute(t) <= 1:\n",
    "            # The Bihomogeneous layer will remove the zero entries automatically.\n",
    "            # So here we add a small number eps to avoid being removed\n",
    "            points_list.append([1+eps, -1+eps, t+eps, 0+eps, -t+eps])\n",
    "        else:\n",
    "            # Use the symmetry:\n",
    "            points_list.append([1+eps, -1+eps, 1/t+eps, 0+eps, -1/t+eps])"
   ]
  },
  {
   "cell_type": "markdown",
   "metadata": {},
   "source": [
    "Use this set of points to generate the rational curve with norm_coordinate = z0 and max_grad_coordinate = z1:"
   ]
  },
  {
   "cell_type": "code",
   "execution_count": 24,
   "metadata": {},
   "outputs": [],
   "source": [
    "rc = mlg.hypersurface.Hypersurface(Z, f, points=points_list, norm_coordinate=0, max_grad_coordinate=0)\n",
    "rc_dataset = mlg.tf_dataset.generate_dataset(rc).batch(rc.n_points)"
   ]
  },
  {
   "cell_type": "markdown",
   "metadata": {},
   "source": [
    "Calculate $\\eta$:"
   ]
  },
  {
   "cell_type": "code",
   "execution_count": 25,
   "metadata": {},
   "outputs": [],
   "source": [
    "points, Omega_Omegabar, mass, restriction = next(iter(rc_dataset))\n",
    "det_omega = volume_form(points, Omega_Omegabar, mass, restriction)\n",
    "eta = (det_omega / Omega_Omegabar).numpy()"
   ]
  },
  {
   "cell_type": "markdown",
   "metadata": {},
   "source": [
    "Convert to Cartesian coordinates:"
   ]
  },
  {
   "cell_type": "code",
   "execution_count": 26,
   "metadata": {},
   "outputs": [],
   "source": [
    "R = eta.reshape(500, 500)\n",
    "THETA, PHI = np.meshgrid(theta, phi)\n",
    "X = R * np.sin(THETA) * np.cos(PHI)\n",
    "Y = R * np.sin(THETA) * np.sin(PHI)\n",
    "ZZ = R * np.cos(THETA)"
   ]
  },
  {
   "cell_type": "markdown",
   "metadata": {},
   "source": [
    "Plot the figure:"
   ]
  },
  {
   "cell_type": "code",
   "execution_count": 27,
   "metadata": {},
   "outputs": [
    {
     "data": {
      "image/png": "[encoded data removed]",
      "text/plain": [
       "<Figure size 432x288 with 1 Axes>"
      ]
     },
     "metadata": {
      "needs_background": "light"
     },
     "output_type": "display_data"
    }
   ],
   "source": [
    "fig = plt.figure()\n",
    "ax = fig.add_subplot(1,1,1, projection='3d')\n",
    "ax.set_zlim3d(-1.0, 1.0)\n",
    "plot = ax.plot_surface(\n",
    "    X, Y, ZZ, rstride=1, cstride=1, cmap=plt.cm.YlGnBu_r,\n",
    "    linewidth=0, antialiased=False)"
   ]
  },
  {
   "cell_type": "markdown",
   "metadata": {},
   "source": [
    "$\\eta$ is expected to approach the constant function 1 as k increases."
   ]
  }
 ],
 "metadata": {
  "kernelspec": {
   "display_name": "Python 3",
   "language": "python",
   "name": "python3"
  },
  "language_info": {
   "codemirror_mode": {
    "name": "ipython",
    "version": 3
   },
   "file_extension": ".py",
   "mimetype": "text/x-python",
   "name": "python",
   "nbconvert_exporter": "python",
   "pygments_lexer": "ipython3",
   "version": "3.7.3"
  }
 },
 "nbformat": 4,
 "nbformat_minor": 4
}
